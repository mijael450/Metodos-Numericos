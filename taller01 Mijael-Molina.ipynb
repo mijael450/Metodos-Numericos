{
 "cells": [
  {
   "cell_type": "markdown",
   "metadata": {},
   "source": [
    "# Taller  0-1 Notebook\n",
    "* Google Colab\n",
    "* Kaggle\n",
    "* Visual Studio Code\n",
    "\n",
    "Crear repositorio a Github!\n",
    "Subir al aula virtual link de repo **público**."
   ]
  },
  {
   "cell_type": "markdown",
   "metadata": {},
   "source": [
    "## Enlaces interés\n",
    "* https://gitmoji.dev/\n",
    "* https://github.com/ztjona/taller-01-MN"
   ]
  },
  {
   "cell_type": "markdown",
   "metadata": {},
   "source": [
    "# TAREA GRAFICAR\n",
    "$y(x)=x^3-7x^2+4x+12$"
   ]
  },
  {
   "cell_type": "code",
   "execution_count": 1,
   "metadata": {},
   "outputs": [],
   "source": [
    "def average(a: int, b: int) -> float:\n",
    "    return (a + b) / 2"
   ]
  },
  {
   "cell_type": "code",
   "execution_count": 3,
   "metadata": {},
   "outputs": [
    {
     "data": {
      "text/plain": [
       "-5.0"
      ]
     },
     "execution_count": 3,
     "metadata": {},
     "output_type": "execute_result"
    }
   ],
   "source": [
    "average(0, -10)"
   ]
  },
  {
   "cell_type": "code",
   "execution_count": 4,
   "metadata": {},
   "outputs": [
    {
     "data": {
      "text/plain": [
       "12.0"
      ]
     },
     "execution_count": 4,
     "metadata": {},
     "output_type": "execute_result"
    }
   ],
   "source": [
    "from math import sqrt\n",
    "\n",
    "sqrt(144)"
   ]
  },
  {
   "cell_type": "code",
   "execution_count": 10,
   "metadata": {},
   "outputs": [],
   "source": [
    "# y(x)=x^3-7x^2+4x+12\n",
    "def eqn(x: int) -> int:\n",
    "    # ** símbolo de potencia en python, no se usa el `^` como en otros lenguajes\n",
    "    return x**3 - 7 * x**2 + 4 * x + 12 \n",
    "\n"
   ]
  },
  {
   "cell_type": "code",
   "execution_count": 12,
   "metadata": {},
   "outputs": [
    {
     "name": "stdout",
     "output_type": "stream",
     "text": [
      "x = -10.00 \ty = -1.73e+03\n",
      "x = -9.80 \ty = -1.64e+03\n",
      "x = -9.60 \ty = -1.55e+03\n",
      "x = -9.39 \ty = -1.47e+03\n",
      "x = -9.19 \ty = -1.39e+03\n",
      "x = -8.99 \ty = -1.32e+03\n",
      "x = -8.79 \ty = -1.24e+03\n",
      "x = -8.59 \ty = -1.17e+03\n",
      "x = -8.38 \ty = -1.10e+03\n",
      "x = -8.18 \ty = -1.04e+03\n",
      "x = -7.98 \ty = -9.74e+02\n",
      "x = -7.78 \ty = -9.13e+02\n",
      "x = -7.58 \ty = -8.55e+02\n",
      "x = -7.37 \ty = -7.99e+02\n",
      "x = -7.17 \ty = -7.46e+02\n",
      "x = -6.97 \ty = -6.94e+02\n",
      "x = -6.77 \ty = -6.46e+02\n",
      "x = -6.57 \ty = -5.99e+02\n",
      "x = -6.36 \ty = -5.55e+02\n",
      "x = -6.16 \ty = -5.12e+02\n",
      "x = -5.96 \ty = -4.72e+02\n",
      "x = -5.76 \ty = -4.34e+02\n",
      "x = -5.56 \ty = -3.98e+02\n",
      "x = -5.35 \ty = -3.63e+02\n",
      "x = -5.15 \ty = -3.31e+02\n",
      "x = -4.95 \ty = -3.01e+02\n",
      "x = -4.75 \ty = -2.72e+02\n",
      "x = -4.55 \ty = -2.45e+02\n",
      "x = -4.34 \ty = -2.19e+02\n",
      "x = -4.14 \ty = -1.96e+02\n",
      "x = -3.94 \ty = -1.74e+02\n",
      "x = -3.74 \ty = -1.53e+02\n",
      "x = -3.54 \ty = -1.34e+02\n",
      "x = -3.33 \ty = -1.16e+02\n",
      "x = -3.13 \ty = -9.99e+01\n",
      "x = -2.93 \ty = -8.49e+01\n",
      "x = -2.73 \ty = -7.13e+01\n",
      "x = -2.53 \ty = -5.88e+01\n",
      "x = -2.32 \ty = -4.76e+01\n",
      "x = -2.12 \ty = -3.75e+01\n",
      "x = -1.92 \ty = -2.85e+01\n",
      "x = -1.72 \ty = -2.06e+01\n",
      "x = -1.52 \ty = -1.36e+01\n",
      "x = -1.31 \ty = -7.59e+00\n",
      "x = -1.11 \ty = -2.46e+00\n",
      "x = -0.91 \ty = 1.83e+00\n",
      "x = -0.71 \ty = 5.32e+00\n",
      "x = -0.51 \ty = 8.07e+00\n",
      "x = -0.30 \ty = 1.01e+01\n",
      "x = -0.10 \ty = 1.15e+01\n",
      "x = 0.10 \ty = 1.23e+01\n",
      "x = 0.30 \ty = 1.26e+01\n",
      "x = 0.51 \ty = 1.24e+01\n",
      "x = 0.71 \ty = 1.17e+01\n",
      "x = 0.91 \ty = 1.06e+01\n",
      "x = 1.11 \ty = 9.17e+00\n",
      "x = 1.31 \ty = 7.45e+00\n",
      "x = 1.52 \ty = 5.47e+00\n",
      "x = 1.72 \ty = 3.29e+00\n",
      "x = 1.92 \ty = 9.63e-01\n",
      "x = 2.12 \ty = -1.47e+00\n",
      "x = 2.32 \ty = -3.95e+00\n",
      "x = 2.53 \ty = -6.43e+00\n",
      "x = 2.73 \ty = -8.87e+00\n",
      "x = 2.93 \ty = -1.12e+01\n",
      "x = 3.13 \ty = -1.34e+01\n",
      "x = 3.33 \ty = -1.54e+01\n",
      "x = 3.54 \ty = -1.72e+01\n",
      "x = 3.74 \ty = -1.86e+01\n",
      "x = 3.94 \ty = -1.97e+01\n",
      "x = 4.14 \ty = -2.05e+01\n",
      "x = 4.34 \ty = -2.07e+01\n",
      "x = 4.55 \ty = -2.05e+01\n",
      "x = 4.75 \ty = -1.98e+01\n",
      "x = 4.95 \ty = -1.84e+01\n",
      "x = 5.15 \ty = -1.64e+01\n",
      "x = 5.35 \ty = -1.38e+01\n",
      "x = 5.56 \ty = -1.04e+01\n",
      "x = 5.76 \ty = -6.16e+00\n",
      "x = 5.96 \ty = -1.11e+00\n",
      "x = 6.16 \ty = 4.82e+00\n",
      "x = 6.36 \ty = 1.17e+01\n",
      "x = 6.57 \ty = 1.95e+01\n",
      "x = 6.77 \ty = 2.84e+01\n",
      "x = 6.97 \ty = 3.84e+01\n",
      "x = 7.17 \ty = 4.95e+01\n",
      "x = 7.37 \ty = 6.18e+01\n",
      "x = 7.58 \ty = 7.53e+01\n",
      "x = 7.78 \ty = 9.02e+01\n",
      "x = 7.98 \ty = 1.06e+02\n",
      "x = 8.18 \ty = 1.24e+02\n",
      "x = 8.38 \ty = 1.43e+02\n",
      "x = 8.59 \ty = 1.63e+02\n",
      "x = 8.79 \ty = 1.85e+02\n",
      "x = 8.99 \ty = 2.09e+02\n",
      "x = 9.19 \ty = 2.34e+02\n",
      "x = 9.39 \ty = 2.61e+02\n",
      "x = 9.60 \ty = 2.89e+02\n",
      "x = 9.80 \ty = 3.20e+02\n",
      "x = 10.00 \ty = 3.52e+02\n"
     ]
    },
    {
     "data": {
      "text/plain": [
       "[np.float64(-1728.0),\n",
       " np.float64(-1639.8048354167117),\n",
       " np.float64(-1554.580301535918),\n",
       " np.float64(-1472.2769290703177),\n",
       " np.float64(-1392.8452487326072),\n",
       " np.float64(-1316.235791235485),\n",
       " np.float64(-1242.399087291649),\n",
       " np.float64(-1171.2856676137978),\n",
       " np.float64(-1102.8460629146275),\n",
       " np.float64(-1037.0308039068368),\n",
       " np.float64(-973.7904213031238),\n",
       " np.float64(-913.0754458161864),\n",
       " np.float64(-854.8364081587223),\n",
       " np.float64(-799.0238390434289),\n",
       " np.float64(-745.5882691830043),\n",
       " np.float64(-694.4802292901467),\n",
       " np.float64(-645.6502500775536),\n",
       " np.float64(-599.0488622579225),\n",
       " np.float64(-554.626596543952),\n",
       " np.float64(-512.3339836483393),\n",
       " np.float64(-472.12155428378253),\n",
       " np.float64(-433.93983916297975),\n",
       " np.float64(-397.7393689986282),\n",
       " np.float64(-363.4706745034263),\n",
       " np.float64(-331.0842863900715),\n",
       " np.float64(-300.5307353712619),\n",
       " np.float64(-271.76055215969507),\n",
       " np.float64(-244.72426746806917),\n",
       " np.float64(-219.37241200908173),\n",
       " np.float64(-195.65551649543085),\n",
       " np.float64(-173.52411163981412),\n",
       " np.float64(-152.92872815492962),\n",
       " np.float64(-133.81989675347498),\n",
       " np.float64(-116.14814814814812),\n",
       " np.float64(-99.86401305164698),\n",
       " np.float64(-84.91802217666924),\n",
       " np.float64(-71.26070623591286),\n",
       " np.float64(-58.842595942075576),\n",
       " np.float64(-47.614222007855325),\n",
       " np.float64(-37.52611514594985),\n",
       " np.float64(-28.52880606905704),\n",
       " np.float64(-20.572825489874802),\n",
       " np.float64(-13.608704121100828),\n",
       " np.float64(-7.586972675433039),\n",
       " np.float64(-2.458161865569263),\n",
       " np.float64(1.8271975957926188),\n",
       " np.float64(5.318574995954847),\n",
       " np.float64(8.065439622219541),\n",
       " np.float64(10.117260761888863),\n",
       " np.float64(11.523507702264975),\n",
       " np.float64(12.333649730650034),\n",
       " np.float64(12.597156134346218),\n",
       " np.float64(12.363496200655675),\n",
       " np.float64(11.682139216880568),\n",
       " np.float64(10.60255447032307),\n",
       " np.float64(9.174211248285324),\n",
       " np.float64(7.446578838069502),\n",
       " np.float64(5.469126526977762),\n",
       " np.float64(3.2913236023122874),\n",
       " np.float64(0.9626393513752021),\n",
       " np.float64(-1.4674569385313134),\n",
       " np.float64(-3.9494959801051053),\n",
       " np.float64(-6.434008486043975),\n",
       " np.float64(-8.871525169045825),\n",
       " np.float64(-11.212576741808455),\n",
       " np.float64(-13.407693917029704),\n",
       " np.float64(-15.407407407407405),\n",
       " np.float64(-17.162247925639413),\n",
       " np.float64(-18.622746184423562),\n",
       " np.float64(-19.739432896457686),\n",
       " np.float64(-20.462838774439618),\n",
       " np.float64(-20.743494531067228),\n",
       " np.float64(-20.531930879038292),\n",
       " np.float64(-19.778678531050744),\n",
       " np.float64(-18.43426819980234),\n",
       " np.float64(-16.44923059799094),\n",
       " np.float64(-13.774096438314402),\n",
       " np.float64(-10.3593964334705),\n",
       " np.float64(-6.155661296157206),\n",
       " np.float64(-1.113421739072237),\n",
       " np.float64(4.816791525086629),\n",
       " np.float64(11.684447783621309),\n",
       " np.float64(19.539016323834105),\n",
       " np.float64(28.429966433027374),\n",
       " np.float64(38.40676739850289),\n",
       " np.float64(49.518888507563176),\n",
       " np.float64(61.81579904751011),\n",
       " np.float64(75.34696830564592),\n",
       " np.float64(90.16186556927303),\n",
       " np.float64(106.30996012569318),\n",
       " np.float64(123.84072126220863),\n",
       " np.float64(142.80361826612216),\n",
       " np.float64(163.24812042473496),\n",
       " np.float64(185.22369702535005),\n",
       " np.float64(208.77981735526873),\n",
       " np.float64(233.96595070179373),\n",
       " np.float64(260.8315663522275),\n",
       " np.float64(289.4261335938715),\n",
       " np.float64(319.7991217140285),\n",
       " np.float64(352.0)]"
      ]
     },
     "execution_count": 12,
     "metadata": {},
     "output_type": "execute_result"
    }
   ],
   "source": [
    "import numpy as np \n",
    "\n",
    "Xs,paso=np.linspace(-10,10,retstep=True,num=100)\n",
    "Ys = []\n",
    "for x in Xs:\n",
    "    y = eqn(x)\n",
    "    # Xs.append(x)\n",
    "    Ys.append(y)\n",
    "    print(f\"x = {x:.2f} \\ty = {y:.2e}\")\n",
    "Ys"
   ]
  },
  {
   "cell_type": "code",
   "execution_count": 15,
   "metadata": {},
   "outputs": [
    {
     "data": {
      "image/png": "[encoded data removed]",
      "text/plain": [
       "<Figure size 640x480 with 1 Axes>"
      ]
     },
     "metadata": {},
     "output_type": "display_data"
    }
   ],
   "source": [
    "from matplotlib import pyplot as plt\n",
    "plt.plot(Xs,Ys)\n",
    "plt.plot(x, y, label=\"f(x) =  x**3 - 7 * x**2 + 4 * x + 12\")\n",
    "plt.xlabel(\"x\")\n",
    "plt.ylabel(\"f(x)\")\n",
    "plt.title(\"Gráfica de la función f(x) = x^2\")\n",
    "plt.legend()  # Muestra la leyenda\n",
    "plt.grid()    # Agrega una cuadrícula\n"
   ]
  }
 ],
 "metadata": {
  "kernelspec": {
   "display_name": "Python 3",
   "language": "python",
   "name": "python3"
  },
  "language_info": {
   "codemirror_mode": {
    "name": "ipython",
    "version": 3
   },
   "file_extension": ".py",
   "mimetype": "text/x-python",
   "name": "python",
   "nbconvert_exporter": "python",
   "pygments_lexer": "ipython3",
   "version": "3.12.5"
  }
 },
 "nbformat": 4,
 "nbformat_minor": 2
}
